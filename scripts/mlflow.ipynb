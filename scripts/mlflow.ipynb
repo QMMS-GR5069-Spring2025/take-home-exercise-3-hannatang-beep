{
 "cells": [
  {
   "cell_type": "code",
   "execution_count": 0,
   "metadata": {
    "application/vnd.databricks.v1+cell": {
     "cellMetadata": {
      "byteLimit": 2048000,
      "rowLimit": 10000
     },
     "inputWidgets": {},
     "nuid": "73124256-e1e8-4608-a6f2-1d3a8c631cb8",
     "showTitle": false,
     "tableResultSettingsMap": {},
     "title": ""
    }
   },
   "outputs": [],
   "source": [
    "import mlflow\n",
    "mlflow.__version__\n"
   ]
  },
  {
   "cell_type": "code",
   "execution_count": 0,
   "metadata": {
    "application/vnd.databricks.v1+cell": {
     "cellMetadata": {
      "byteLimit": 2048000,
      "rowLimit": 10000
     },
     "inputWidgets": {},
     "nuid": "af86fc8f-f1bd-4d53-a638-3756053a2d27",
     "showTitle": false,
     "tableResultSettingsMap": {},
     "title": ""
    }
   },
   "outputs": [],
   "source": [
    "# Databricks notebook source\n",
    "# MAGIC %md-sandbox\n",
    "# MAGIC <div><img src=\"https://files.training.databricks.com/images/eLearning/ML-Part-4/mlflow-tracking.png\" style=\"height: 400px; margin: 20px\"/></div>\n",
    "\n",
    "# COMMAND ----------\n",
    "\n",
    "# MAGIC %md\n",
    "# MAGIC Import a dataset of Airbnb listings and featurize the data.  We'll use this to train a model.\n",
    "\n",
    "# COMMAND ----------\n",
    "\n",
    "import boto3\n",
    "import pandas as pd\n",
    "\n",
    "# COMMAND ----------\n",
    "s3 = boto3.client(\"s3\")\n",
    "bucket = \"columbia-gr5069-main\"\n",
    "key = \"raw/results.csv\"\n",
    "\n",
    "obj = s3.get_object(Bucket=bucket, Key=key)\n",
    "df = pd.read_csv(obj[\"Body\"], na_values='\\\\N')\n",
    "\n",
    "display(df)"
   ]
  },
  {
   "cell_type": "code",
   "execution_count": 0,
   "metadata": {
    "application/vnd.databricks.v1+cell": {
     "cellMetadata": {
      "byteLimit": 2048000,
      "rowLimit": 10000
     },
     "inputWidgets": {},
     "nuid": "8c4c9dc8-1f5e-4206-b9b5-008fca0e04f6",
     "showTitle": false,
     "tableResultSettingsMap": {},
     "title": ""
    }
   },
   "outputs": [],
   "source": [
    "from sklearn.model_selection import train_test_split\n",
    "\n",
    "# Select relevant numeric features\n",
    "selected_cols = [\"grid\", \"laps\", \"number\", \"statusId\", \"positionOrder\"]\n",
    "df = df[selected_cols].dropna()\n",
    "\n",
    "# Split into features and target\n",
    "X = df.drop(\"positionOrder\", axis=1)\n",
    "y = df[\"positionOrder\"]\n",
    "\n",
    "# train/test split\n",
    "X_train, X_test, y_train, y_test = train_test_split(X, y, random_state=42)\n"
   ]
  },
  {
   "cell_type": "code",
   "execution_count": 0,
   "metadata": {
    "application/vnd.databricks.v1+cell": {
     "cellMetadata": {
      "byteLimit": 2048000,
      "rowLimit": 10000
     },
     "inputWidgets": {},
     "nuid": "ec24301f-ee97-4855-b773-584475138c89",
     "showTitle": false,
     "tableResultSettingsMap": {},
     "title": ""
    }
   },
   "outputs": [],
   "source": [
    "def log_rf(experimentID, run_name, params, X_train, X_test, y_train, y_test):\n",
    "    import mlflow.sklearn\n",
    "    import matplotlib.pyplot as plt\n",
    "    import seaborn as sns\n",
    "    from sklearn.ensemble import RandomForestRegressor\n",
    "    from sklearn.metrics import mean_squared_error, mean_absolute_error, r2_score\n",
    "    import tempfile\n",
    "    import os\n",
    "\n",
    "    with mlflow.start_run(experiment_id=experimentID, run_name=run_name) as run:\n",
    "        model = RandomForestRegressor(**params)\n",
    "        model.fit(X_train, y_train)\n",
    "        predictions = model.predict(X_test)\n",
    "\n",
    "        # Log model\n",
    "        mlflow.sklearn.log_model(model, \"random-forest-model\")\n",
    "\n",
    "        # Log params\n",
    "        for k, v in params.items():\n",
    "            mlflow.log_param(k, v)\n",
    "\n",
    "        # Metrics\n",
    "        mae = mean_absolute_error(y_test, predictions)\n",
    "        mse = mean_squared_error(y_test, predictions)\n",
    "        r2 = r2_score(y_test, predictions)\n",
    "\n",
    "        mlflow.log_metric(\"mae\", mae)\n",
    "        mlflow.log_metric(\"mse\", mse)\n",
    "        mlflow.log_metric(\"r2\", r2)\n",
    "\n",
    "        # Artifact 1: residuals\n",
    "        residuals = y_test - predictions\n",
    "        fig, ax = plt.subplots()\n",
    "        sns.histplot(residuals, bins=30)\n",
    "        plt.title(\"Residuals\")\n",
    "        temp_png = tempfile.NamedTemporaryFile(delete=False, suffix=\".png\")\n",
    "        fig.savefig(temp_png.name)\n",
    "        mlflow.log_artifact(temp_png.name, \"residuals.png\")\n",
    "        temp_png.close()\n",
    "        os.remove(temp_png.name)\n",
    "\n",
    "        # Artifact 2: feature importance\n",
    "        importance = pd.DataFrame({\n",
    "            \"feature\": X.columns,\n",
    "            \"importance\": model.feature_importances_\n",
    "        }).sort_values(by=\"importance\", ascending=False)\n",
    "\n",
    "        temp_csv = tempfile.NamedTemporaryFile(delete=False, suffix=\".csv\")\n",
    "        importance.to_csv(temp_csv.name, index=False)\n",
    "        mlflow.log_artifact(temp_csv.name, \"feature-importance.csv\")\n",
    "        temp_csv.close()\n",
    "        os.remove(temp_csv.name)\n",
    "\n",
    "        return run.info.run_uuid\n"
   ]
  },
  {
   "cell_type": "code",
   "execution_count": 0,
   "metadata": {
    "application/vnd.databricks.v1+cell": {
     "cellMetadata": {
      "byteLimit": 2048000,
      "rowLimit": 10000
     },
     "inputWidgets": {},
     "nuid": "66e7b86f-8963-4d76-9601-79bd5e95bfdc",
     "showTitle": false,
     "tableResultSettingsMap": {},
     "title": ""
    }
   },
   "outputs": [],
   "source": [
    "import mlflow\n",
    "experimentID = mlflow.active_run().info.experiment_id if mlflow.active_run() else mlflow.set_experiment(\"/Users/ht2668@columbia.edu/F1-Prediction\").experiment_id\n",
    "\n",
    "# 10 param experiments\n",
    "param_list = [\n",
    "    {\"n_estimators\": 100, \"max_depth\": 3, \"random_state\": 42},\n",
    "    {\"n_estimators\": 200, \"max_depth\": 4, \"random_state\": 42},\n",
    "    {\"n_estimators\": 300, \"max_depth\": 5, \"random_state\": 42},\n",
    "    {\"n_estimators\": 400, \"max_depth\": 6, \"random_state\": 42},\n",
    "    {\"n_estimators\": 500, \"max_depth\": 7, \"random_state\": 42},\n",
    "    {\"n_estimators\": 600, \"max_depth\": 8, \"random_state\": 42},\n",
    "    {\"n_estimators\": 700, \"max_depth\": 9, \"random_state\": 42},\n",
    "    {\"n_estimators\": 800, \"max_depth\": 10, \"random_state\": 42},\n",
    "    {\"n_estimators\": 900, \"max_depth\": 11, \"random_state\": 42},\n",
    "    {\"n_estimators\": 1000, \"max_depth\": 12, \"random_state\": 42}\n",
    "]\n",
    "\n",
    "for i, params in enumerate(param_list):\n",
    "    run_name = f\"Run {i+1}\"\n",
    "    log_rf(experimentID, run_name, params, X_train, X_test, y_train, y_test)\n"
   ]
  },
  {
   "cell_type": "markdown",
   "metadata": {
    "application/vnd.databricks.v1+cell": {
     "cellMetadata": {},
     "inputWidgets": {},
     "nuid": "f01c961c-3ebf-4d0b-b2a5-38c75adb6ca5",
     "showTitle": false,
     "tableResultSettingsMap": {},
     "title": ""
    }
   },
   "source": [
    "\n",
    "Best Model Selection\n",
    "Among the 10 experiments, **Run 10** achieved the best overall performance with:\n",
    "\n",
    "- **R² = 0.827**, indicating the highest variance explained by the model\n",
    "- **MSE = 10.24**, the lowest mean squared error\n",
    "- **MAE = 2.45**, also the lowest mean absolute error\n",
    "\n",
    "This suggests that the model trained with `n_estimators=1000` and `max_depth=12` provided the most accurate predictions with the best generalization performance. Therefore, Run 10 is selected as the best model.\n"
   ]
  }
 ],
 "metadata": {
  "application/vnd.databricks.v1+notebook": {
   "computePreferences": null,
   "dashboards": [],
   "environmentMetadata": {
    "base_environment": "",
    "environment_version": "2"
   },
   "inputWidgetPreferences": null,
   "language": "python",
   "notebookMetadata": {
    "pythonIndentUnit": 4
   },
   "notebookName": "mlflow",
   "widgets": {}
  },
  "language_info": {
   "name": "python"
  }
 },
 "nbformat": 4,
 "nbformat_minor": 0
}
